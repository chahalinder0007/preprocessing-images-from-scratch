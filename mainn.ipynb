{
 "cells": [
  {
   "cell_type": "code",
   "execution_count": null,
   "metadata": {},
   "outputs": [],
   "source": [
    "import depends\n",
    "from preproces import preprocess\n",
    "from sklearn import svm\n",
    "from sklearn.metrics import confusion_matrix"
   ]
  },
  {
   "cell_type": "code",
   "execution_count": 5,
   "metadata": {},
   "outputs": [],
   "source": [
    "size=[130,130]\n",
    "cols=110\n",
    "c_pad = (int(math.ceil((size[1]-cols)/2.0)),int(math.floor((size[1]-cols)/2.0)))"
   ]
  },
  {
   "cell_type": "code",
   "execution_count": 1,
   "metadata": {},
   "outputs": [],
   "source": [
    "import math "
   ]
  },
  {
   "cell_type": "code",
   "execution_count": 6,
   "metadata": {},
   "outputs": [
    {
     "data": {
      "text/plain": [
       "(10, 10)"
      ]
     },
     "execution_count": 6,
     "metadata": {},
     "output_type": "execute_result"
    }
   ],
   "source": [
    "c_pad"
   ]
  },
  {
   "cell_type": "code",
   "execution_count": null,
   "metadata": {},
   "outputs": [],
   "source": []
  },
  {
   "cell_type": "code",
   "execution_count": null,
   "metadata": {},
   "outputs": [],
   "source": []
  },
  {
   "cell_type": "code",
   "execution_count": null,
   "metadata": {},
   "outputs": [],
   "source": []
  },
  {
   "cell_type": "code",
   "execution_count": null,
   "metadata": {},
   "outputs": [],
   "source": []
  },
  {
   "cell_type": "code",
   "execution_count": null,
   "metadata": {},
   "outputs": [],
   "source": [
    "import matplotlib.pyplot as plt\n",
    "import numpy as np\n",
    "#%matplotlib  #use this for interactive plots"
   ]
  },
  {
   "cell_type": "code",
   "execution_count": null,
   "metadata": {},
   "outputs": [],
   "source": [
    "X,Y=preprocess(path=\"/home/inder/freelanc/SAMPLE/\").data(type_of_transform=\"dwt and dct\")"
   ]
  },
  {
   "cell_type": "code",
   "execution_count": null,
   "metadata": {},
   "outputs": [],
   "source": [
    "classfier=svm.SVC(kernel=\"poly\",degree=2) #prob is true only to examine values it slowes training though\n",
    "d_len=int(len(X)*0.90) #95% of the data is segragated for training 5% for testing.\n",
    "\n",
    "X_train=X[:d_len]\n",
    "Y_train=Y[:d_len]\n",
    "classfier.fit(X_train,Y_train)\n",
    "#Y=[int(x) for x in Y]\n",
    "print(classfier.score(X[d_len:],Y[d_len:]))        "
   ]
  },
  {
   "cell_type": "code",
   "execution_count": null,
   "metadata": {},
   "outputs": [],
   "source": [
    "#to save the classifier\n",
    "import pickle\n",
    "with open(\"classifierave.pickle\",\"wb\") as file:\n",
    "    pickle.dump(classfier,file)"
   ]
  },
  {
   "cell_type": "code",
   "execution_count": null,
   "metadata": {},
   "outputs": [],
   "source": [
    "import matplotlib.pyplot as plt\n",
    "from scipy.stats import gaussian_kde\n",
    "plt.rcParams[\"figure.figsize\"]=15,10"
   ]
  },
  {
   "cell_type": "code",
   "execution_count": null,
   "metadata": {
    "scrolled": true
   },
   "outputs": [],
   "source": [
    "proba_classi=classfier.predict_proba(X[d_len:])\n",
    "x=[int(x) for x in Y[d_len:]]\n",
    "y=[np.argmax(x) for x in proba_classi]\n",
    "xy=np.vstack([x,y])\n",
    "z=gaussian_kde(xy)(xy)\n",
    "\n",
    "print(confusion_matrix(y_true=x,y_pred=y))"
   ]
  },
  {
   "cell_type": "code",
   "execution_count": null,
   "metadata": {},
   "outputs": [],
   "source": [
    "plt.scatter([int(x) for x in Y[d_len:]],[np.argmax(x) for x in proba_classi])\n",
    "plt.show()"
   ]
  },
  {
   "cell_type": "code",
   "execution_count": null,
   "metadata": {},
   "outputs": [],
   "source": [
    "#print with density at points blue means least dense\n",
    "fig,ax=plt.subplots()\n",
    "ax.scatter(x,y,c=z,s=100,edgecolor=\"\")\n",
    "plt.show()"
   ]
  },
  {
   "cell_type": "code",
   "execution_count": null,
   "metadata": {},
   "outputs": [],
   "source": [
    "#density plot with reference bar\n",
    "plt.hist2d(x,y,(50,50),cmap=plt.cm.jet)\n",
    "plt.colorbar()\n",
    "plt.show()"
   ]
  }
 ],
 "metadata": {
  "kernelspec": {
   "display_name": "Python 3",
   "language": "python",
   "name": "python3"
  },
  "language_info": {
   "codemirror_mode": {
    "name": "ipython",
    "version": 3
   },
   "file_extension": ".py",
   "mimetype": "text/x-python",
   "name": "python",
   "nbconvert_exporter": "python",
   "pygments_lexer": "ipython3",
   "version": "3.6.7"
  }
 },
 "nbformat": 4,
 "nbformat_minor": 2
}
